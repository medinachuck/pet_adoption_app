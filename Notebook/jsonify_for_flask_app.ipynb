{
 "cells": [
  {
   "cell_type": "code",
   "execution_count": 156,
   "id": "first-prayer",
   "metadata": {},
   "outputs": [],
   "source": [
    "import pandas as pd\n",
    "import requests\n",
    "from io import StringIO"
   ]
  },
  {
   "cell_type": "code",
   "execution_count": 157,
   "id": "extra-gamma",
   "metadata": {},
   "outputs": [],
   "source": [
    "path = \"..\\Resources\\csv_file/\""
   ]
  },
  {
   "cell_type": "code",
   "execution_count": 158,
   "id": "necessary-notice",
   "metadata": {},
   "outputs": [],
   "source": [
    "# path to csv\n",
    "train_csv_path = \"https://drive.google.com/file/d/1AvEIyNW4bQO9-Mg7CKb4RXFs_Xq-qro8/view?usp=sharing\"\n",
    "color_csv_path = \"https://drive.google.com/file/d/1OBvlVnhEGH79DWlfpTtD4JFYsIfIGbX0/view?usp=sharing\"\n",
    "breed_csv_path = \"https://drive.google.com/file/d/15-dm0dLnBokkrdwM_Cb1rvlUgTpW2vYl/view?usp=sharing\"\n",
    "down =\"https://drive.google.com/uc?export=download&id=\"\n",
    "\n",
    "# file ids\n",
    "train = train_csv_path.split('/')[-2]\n",
    "color = color_csv_path.split('/')[-2]\n",
    "breed = breed_csv_path.split('/')[-2]\n",
    "\n",
    "# dowload csv\n",
    "train_do = requests.get(down+train).text\n",
    "color_do = requests.get(down+color).text\n",
    "breed_do = requests.get(down+breed).text\n",
    "\n",
    "# getting csv text\n",
    "train_csv = StringIO(train_do)\n",
    "color_csv = StringIO(color_do)\n",
    "breed_csv = StringIO(breed_do)\n",
    "\n",
    "# df\n",
    "train_df = pd.read_csv(train_csv)\n",
    "color_df = pd.read_csv(color_csv)\n",
    "breed_df = pd.read_csv(breed_csv)\n",
    "\n",
    "# train_df.head(2)"
   ]
  },
  {
   "cell_type": "code",
   "execution_count": 159,
   "id": "cross-registrar",
   "metadata": {},
   "outputs": [
    {
     "data": {
      "text/html": [
       "<div>\n",
       "<style scoped>\n",
       "    .dataframe tbody tr th:only-of-type {\n",
       "        vertical-align: middle;\n",
       "    }\n",
       "\n",
       "    .dataframe tbody tr th {\n",
       "        vertical-align: top;\n",
       "    }\n",
       "\n",
       "    .dataframe thead th {\n",
       "        text-align: right;\n",
       "    }\n",
       "</style>\n",
       "<table border=\"1\" class=\"dataframe\">\n",
       "  <thead>\n",
       "    <tr style=\"text-align: right;\">\n",
       "      <th></th>\n",
       "      <th>BreedID</th>\n",
       "      <th>BreedName</th>\n",
       "    </tr>\n",
       "  </thead>\n",
       "  <tbody>\n",
       "    <tr>\n",
       "      <th>0</th>\n",
       "      <td>1</td>\n",
       "      <td>Affenpinscher</td>\n",
       "    </tr>\n",
       "    <tr>\n",
       "      <th>1</th>\n",
       "      <td>2</td>\n",
       "      <td>Afghan Hound</td>\n",
       "    </tr>\n",
       "  </tbody>\n",
       "</table>\n",
       "</div>"
      ],
      "text/plain": [
       "   BreedID      BreedName\n",
       "0        1  Affenpinscher\n",
       "1        2   Afghan Hound"
      ]
     },
     "execution_count": 159,
     "metadata": {},
     "output_type": "execute_result"
    }
   ],
   "source": [
    "breed_df= breed_df[['BreedID','BreedName']]\n",
    "breed_df.head(2)"
   ]
  },
  {
   "cell_type": "code",
   "execution_count": 160,
   "id": "lesbian-history",
   "metadata": {},
   "outputs": [
    {
     "data": {
      "text/html": [
       "<div>\n",
       "<style scoped>\n",
       "    .dataframe tbody tr th:only-of-type {\n",
       "        vertical-align: middle;\n",
       "    }\n",
       "\n",
       "    .dataframe tbody tr th {\n",
       "        vertical-align: top;\n",
       "    }\n",
       "\n",
       "    .dataframe thead th {\n",
       "        text-align: right;\n",
       "    }\n",
       "</style>\n",
       "<table border=\"1\" class=\"dataframe\">\n",
       "  <thead>\n",
       "    <tr style=\"text-align: right;\">\n",
       "      <th></th>\n",
       "      <th>ColorID</th>\n",
       "      <th>ColorName</th>\n",
       "    </tr>\n",
       "  </thead>\n",
       "  <tbody>\n",
       "    <tr>\n",
       "      <th>0</th>\n",
       "      <td>1</td>\n",
       "      <td>Black</td>\n",
       "    </tr>\n",
       "    <tr>\n",
       "      <th>1</th>\n",
       "      <td>2</td>\n",
       "      <td>Brown</td>\n",
       "    </tr>\n",
       "  </tbody>\n",
       "</table>\n",
       "</div>"
      ],
      "text/plain": [
       "   ColorID ColorName\n",
       "0        1     Black\n",
       "1        2     Brown"
      ]
     },
     "execution_count": 160,
     "metadata": {},
     "output_type": "execute_result"
    }
   ],
   "source": [
    "color_df.head(2)"
   ]
  },
  {
   "cell_type": "code",
   "execution_count": 161,
   "id": "sunset-vision",
   "metadata": {
    "scrolled": true
   },
   "outputs": [
    {
     "data": {
      "text/html": [
       "<div>\n",
       "<style scoped>\n",
       "    .dataframe tbody tr th:only-of-type {\n",
       "        vertical-align: middle;\n",
       "    }\n",
       "\n",
       "    .dataframe tbody tr th {\n",
       "        vertical-align: top;\n",
       "    }\n",
       "\n",
       "    .dataframe thead th {\n",
       "        text-align: right;\n",
       "    }\n",
       "</style>\n",
       "<table border=\"1\" class=\"dataframe\">\n",
       "  <thead>\n",
       "    <tr style=\"text-align: right;\">\n",
       "      <th></th>\n",
       "      <th>typeID</th>\n",
       "      <th>type</th>\n",
       "    </tr>\n",
       "  </thead>\n",
       "  <tbody>\n",
       "    <tr>\n",
       "      <th>0</th>\n",
       "      <td>1</td>\n",
       "      <td>dog</td>\n",
       "    </tr>\n",
       "    <tr>\n",
       "      <th>1</th>\n",
       "      <td>2</td>\n",
       "      <td>cat</td>\n",
       "    </tr>\n",
       "  </tbody>\n",
       "</table>\n",
       "</div>"
      ],
      "text/plain": [
       "   typeID type\n",
       "0       1  dog\n",
       "1       2  cat"
      ]
     },
     "execution_count": 161,
     "metadata": {},
     "output_type": "execute_result"
    }
   ],
   "source": [
    "# pet type\n",
    "type_df = pd.DataFrame.from_dict({\"typeID\":[1,2],\n",
    "                       \"type\":['dog','cat']}\n",
    "                      )\n",
    "type_df"
   ]
  },
  {
   "cell_type": "code",
   "execution_count": 162,
   "id": "existing-kruger",
   "metadata": {
    "scrolled": true
   },
   "outputs": [
    {
     "data": {
      "text/html": [
       "<div>\n",
       "<style scoped>\n",
       "    .dataframe tbody tr th:only-of-type {\n",
       "        vertical-align: middle;\n",
       "    }\n",
       "\n",
       "    .dataframe tbody tr th {\n",
       "        vertical-align: top;\n",
       "    }\n",
       "\n",
       "    .dataframe thead th {\n",
       "        text-align: right;\n",
       "    }\n",
       "</style>\n",
       "<table border=\"1\" class=\"dataframe\">\n",
       "  <thead>\n",
       "    <tr style=\"text-align: right;\">\n",
       "      <th></th>\n",
       "      <th>adID</th>\n",
       "      <th>duration</th>\n",
       "    </tr>\n",
       "  </thead>\n",
       "  <tbody>\n",
       "    <tr>\n",
       "      <th>0</th>\n",
       "      <td>0</td>\n",
       "      <td>same day</td>\n",
       "    </tr>\n",
       "    <tr>\n",
       "      <th>1</th>\n",
       "      <td>1</td>\n",
       "      <td>1-7 days</td>\n",
       "    </tr>\n",
       "    <tr>\n",
       "      <th>2</th>\n",
       "      <td>2</td>\n",
       "      <td>8-30 days</td>\n",
       "    </tr>\n",
       "    <tr>\n",
       "      <th>3</th>\n",
       "      <td>3</td>\n",
       "      <td>31-90 days</td>\n",
       "    </tr>\n",
       "    <tr>\n",
       "      <th>4</th>\n",
       "      <td>4</td>\n",
       "      <td>no adoption after 100 days</td>\n",
       "    </tr>\n",
       "  </tbody>\n",
       "</table>\n",
       "</div>"
      ],
      "text/plain": [
       "   adID                    duration\n",
       "0     0                    same day\n",
       "1     1                    1-7 days\n",
       "2     2                   8-30 days\n",
       "3     3                  31-90 days\n",
       "4     4  no adoption after 100 days"
      ]
     },
     "execution_count": 162,
     "metadata": {},
     "output_type": "execute_result"
    }
   ],
   "source": [
    "# adoptibility\n",
    "adopt_df = pd.DataFrame.from_dict({\"adID\":[0,1,2,3,4],\n",
    "                                  \"duration\":['same day','1-7 days',\n",
    "                                              '8-30 days','31-90 days',\n",
    "                                              'no adoption after 100 days'\n",
    "                                             ]\n",
    "                                 })\n",
    "adopt_df"
   ]
  },
  {
   "cell_type": "code",
   "execution_count": 163,
   "id": "increased-thread",
   "metadata": {},
   "outputs": [],
   "source": [
    "# to csv\n",
    "adopt_df.to_csv(path+'adopt_df.csv',index=False)\n",
    "breed_df.to_csv(path+'breed_df.csv',index=False)\n",
    "type_df.to_csv(path+'type_df.csv',index=False)"
   ]
  },
  {
   "cell_type": "code",
   "execution_count": 164,
   "id": "consecutive-reset",
   "metadata": {},
   "outputs": [],
   "source": [
    "# read csv to dataFrame\n",
    "adopt_df = pd.read_csv(path+'adopt_df.csv')\n",
    "breed_df = pd.read_csv(path+'breed_df.csv')\n",
    "type_df = pd.read_csv(path+'type_df.csv')"
   ]
  },
  {
   "cell_type": "code",
   "execution_count": 165,
   "id": "modified-alert",
   "metadata": {},
   "outputs": [],
   "source": [
    "type_json = type_df.to_json(orient='split', index=False)\n",
    "# type_json"
   ]
  },
  {
   "cell_type": "code",
   "execution_count": 166,
   "id": "constant-citizenship",
   "metadata": {},
   "outputs": [],
   "source": [
    "breed_json = breed_df.to_json(orient='split', index=False)\n",
    "# breed_json"
   ]
  },
  {
   "cell_type": "code",
   "execution_count": 167,
   "id": "julian-savings",
   "metadata": {},
   "outputs": [],
   "source": [
    "adopt_json = adopt_df.to_json(orient='split', index=False)\n",
    "# adopt_json"
   ]
  },
  {
   "cell_type": "code",
   "execution_count": 168,
   "id": "hybrid-seeking",
   "metadata": {},
   "outputs": [],
   "source": [
    "def type_json_def():\n",
    "    return type_json"
   ]
  },
  {
   "cell_type": "code",
   "execution_count": 169,
   "id": "comfortable-mistake",
   "metadata": {},
   "outputs": [],
   "source": [
    "def adopt_json_def():\n",
    "    return adopt_json"
   ]
  },
  {
   "cell_type": "code",
   "execution_count": 170,
   "id": "laughing-juvenile",
   "metadata": {},
   "outputs": [],
   "source": [
    "def breed_json_def():\n",
    "    return breed_json"
   ]
  },
  {
   "cell_type": "code",
   "execution_count": 171,
   "id": "cross-flush",
   "metadata": {},
   "outputs": [],
   "source": [
    "def id_breed(bre_in):\n",
    "    a = breed_df.BreedName[breed_df.index[breed_df.BreedID == bre_in]].tolist()[0]\n",
    "    return a    "
   ]
  },
  {
   "cell_type": "code",
   "execution_count": 172,
   "id": "fiscal-bumper",
   "metadata": {},
   "outputs": [],
   "source": [
    "def id_adopt(ado_in):\n",
    "    a = adopt_df.duration[adopt_df.index[adopt_df.adID == ado_in]].tolist()[0]\n",
    "    return a"
   ]
  },
  {
   "cell_type": "code",
   "execution_count": 173,
   "id": "artistic-adrian",
   "metadata": {},
   "outputs": [],
   "source": [
    "def id_type(typ_in):\n",
    "    a = type_df.type[type_df.index[type_df.typeID == typ_in]].tolist()[0]\n",
    "    return a"
   ]
  },
  {
   "cell_type": "code",
   "execution_count": null,
   "id": "crucial-photograph",
   "metadata": {},
   "outputs": [],
   "source": []
  }
 ],
 "metadata": {
  "kernelspec": {
   "display_name": "Python 3",
   "language": "python",
   "name": "python3"
  },
  "language_info": {
   "codemirror_mode": {
    "name": "ipython",
    "version": 3
   },
   "file_extension": ".py",
   "mimetype": "text/x-python",
   "name": "python",
   "nbconvert_exporter": "python",
   "pygments_lexer": "ipython3",
   "version": "3.8.8"
  }
 },
 "nbformat": 4,
 "nbformat_minor": 5
}
